{
 "cells": [
  {
   "cell_type": "code",
   "execution_count": 50,
   "metadata": {
    "id": "pHTAsz0qLv-1"
   },
   "outputs": [],
   "source": [
    "import numpy as np\n",
    "from sklearn import svm\n",
    "from sklearn.metrics import classification_report,accuracy_score\n",
    "import os\n",
    "import cv2 as cv\n",
    "import pickle\n",
    "import random\n",
    "from sklearn.svm import SVC\n",
    "from pathlib import Path\n",
    "import matplotlib.pyplot as plt\n",
    "import pandas as pd"
   ]
  },
  {
   "cell_type": "code",
   "execution_count": null,
   "metadata": {},
   "outputs": [],
   "source": [
    "print(\"Enter datapath for training dataset\")\n",
    "DATADIR = Path(str(input()))"
   ]
  },
  {
   "cell_type": "code",
   "execution_count": 52,
   "metadata": {
    "id": "Q5L4KZsGMEOO"
   },
   "outputs": [],
   "source": [
    "Categories = ['Crazing','Pitted','Inclusion','Patches','Rolled','Scratches']"
   ]
  },
  {
   "cell_type": "code",
   "execution_count": 53,
   "metadata": {
    "id": "m1vXgYFxHSIE"
   },
   "outputs": [],
   "source": [
    "data = []"
   ]
  },
  {
   "cell_type": "code",
   "execution_count": 54,
   "metadata": {
    "id": "2m2JRyqROrvA"
   },
   "outputs": [],
   "source": [
    "for category in Categories:\n",
    "    path = os.path.join(DATADIR, category) # path to respective folders\n",
    "    label = Categories.index(category)\n",
    "    for img in os.listdir(path):\n",
    "        img_array = cv.imread(os.path.join(path,img), 0)\n",
    "        image = np.array(img_array).flatten()\n",
    "        data.append([image,label])        "
   ]
  },
  {
   "cell_type": "code",
   "execution_count": 55,
   "metadata": {
    "id": "jhvmlNJCLT7G"
   },
   "outputs": [],
   "source": [
    "#pick_in = open('data_SVM.pickle','wb')\n",
    "#pickle.dump(data,pick_in)\n",
    "#pick_in.close()"
   ]
  },
  {
   "cell_type": "code",
   "execution_count": 56,
   "metadata": {
    "id": "OJcsHgR1GpzS"
   },
   "outputs": [],
   "source": [
    "# pick_in = open('data_SVM.pickle','rb')\n",
    "# data = pickle.load(pick_in)\n",
    "# pick_in.close()"
   ]
  },
  {
   "cell_type": "code",
   "execution_count": 57,
   "metadata": {
    "id": "XedJ3px-HpvS"
   },
   "outputs": [],
   "source": [
    "random.shuffle(data)"
   ]
  },
  {
   "cell_type": "code",
   "execution_count": 58,
   "metadata": {
    "id": "epBII-_dMfOp"
   },
   "outputs": [],
   "source": [
    "features = []\n",
    "labels =[]"
   ]
  },
  {
   "cell_type": "code",
   "execution_count": 59,
   "metadata": {
    "id": "n4u_hPW-QBL6"
   },
   "outputs": [],
   "source": [
    "for feature, label in data:\n",
    "    features.append(feature)\n",
    "    labels.append(label)\n",
    "df=pd.DataFrame(np.array(features))\n",
    "df['Target'] = pd.DataFrame(np.array(labels))"
   ]
  },
  {
   "cell_type": "code",
   "execution_count": 60,
   "metadata": {
    "id": "GbWvcdLDQBBW"
   },
   "outputs": [],
   "source": [
    "model = SVC(C=100,kernel='poly',gamma = 'auto')"
   ]
  },
  {
   "cell_type": "code",
   "execution_count": 61,
   "metadata": {
    "colab": {
     "base_uri": "https://localhost:8080/"
    },
    "id": "G7ZJXeimgvjo",
    "outputId": "4a5253d0-b967-4f26-88b9-c3dfbadc6be8"
   },
   "outputs": [
    {
     "data": {
      "text/html": [
       "<style>#sk-container-id-3 {color: black;background-color: white;}#sk-container-id-3 pre{padding: 0;}#sk-container-id-3 div.sk-toggleable {background-color: white;}#sk-container-id-3 label.sk-toggleable__label {cursor: pointer;display: block;width: 100%;margin-bottom: 0;padding: 0.3em;box-sizing: border-box;text-align: center;}#sk-container-id-3 label.sk-toggleable__label-arrow:before {content: \"▸\";float: left;margin-right: 0.25em;color: #696969;}#sk-container-id-3 label.sk-toggleable__label-arrow:hover:before {color: black;}#sk-container-id-3 div.sk-estimator:hover label.sk-toggleable__label-arrow:before {color: black;}#sk-container-id-3 div.sk-toggleable__content {max-height: 0;max-width: 0;overflow: hidden;text-align: left;background-color: #f0f8ff;}#sk-container-id-3 div.sk-toggleable__content pre {margin: 0.2em;color: black;border-radius: 0.25em;background-color: #f0f8ff;}#sk-container-id-3 input.sk-toggleable__control:checked~div.sk-toggleable__content {max-height: 200px;max-width: 100%;overflow: auto;}#sk-container-id-3 input.sk-toggleable__control:checked~label.sk-toggleable__label-arrow:before {content: \"▾\";}#sk-container-id-3 div.sk-estimator input.sk-toggleable__control:checked~label.sk-toggleable__label {background-color: #d4ebff;}#sk-container-id-3 div.sk-label input.sk-toggleable__control:checked~label.sk-toggleable__label {background-color: #d4ebff;}#sk-container-id-3 input.sk-hidden--visually {border: 0;clip: rect(1px 1px 1px 1px);clip: rect(1px, 1px, 1px, 1px);height: 1px;margin: -1px;overflow: hidden;padding: 0;position: absolute;width: 1px;}#sk-container-id-3 div.sk-estimator {font-family: monospace;background-color: #f0f8ff;border: 1px dotted black;border-radius: 0.25em;box-sizing: border-box;margin-bottom: 0.5em;}#sk-container-id-3 div.sk-estimator:hover {background-color: #d4ebff;}#sk-container-id-3 div.sk-parallel-item::after {content: \"\";width: 100%;border-bottom: 1px solid gray;flex-grow: 1;}#sk-container-id-3 div.sk-label:hover label.sk-toggleable__label {background-color: #d4ebff;}#sk-container-id-3 div.sk-serial::before {content: \"\";position: absolute;border-left: 1px solid gray;box-sizing: border-box;top: 0;bottom: 0;left: 50%;z-index: 0;}#sk-container-id-3 div.sk-serial {display: flex;flex-direction: column;align-items: center;background-color: white;padding-right: 0.2em;padding-left: 0.2em;position: relative;}#sk-container-id-3 div.sk-item {position: relative;z-index: 1;}#sk-container-id-3 div.sk-parallel {display: flex;align-items: stretch;justify-content: center;background-color: white;position: relative;}#sk-container-id-3 div.sk-item::before, #sk-container-id-3 div.sk-parallel-item::before {content: \"\";position: absolute;border-left: 1px solid gray;box-sizing: border-box;top: 0;bottom: 0;left: 50%;z-index: -1;}#sk-container-id-3 div.sk-parallel-item {display: flex;flex-direction: column;z-index: 1;position: relative;background-color: white;}#sk-container-id-3 div.sk-parallel-item:first-child::after {align-self: flex-end;width: 50%;}#sk-container-id-3 div.sk-parallel-item:last-child::after {align-self: flex-start;width: 50%;}#sk-container-id-3 div.sk-parallel-item:only-child::after {width: 0;}#sk-container-id-3 div.sk-dashed-wrapped {border: 1px dashed gray;margin: 0 0.4em 0.5em 0.4em;box-sizing: border-box;padding-bottom: 0.4em;background-color: white;}#sk-container-id-3 div.sk-label label {font-family: monospace;font-weight: bold;display: inline-block;line-height: 1.2em;}#sk-container-id-3 div.sk-label-container {text-align: center;}#sk-container-id-3 div.sk-container {/* jupyter's `normalize.less` sets `[hidden] { display: none; }` but bootstrap.min.css set `[hidden] { display: none !important; }` so we also need the `!important` here to be able to override the default hidden behavior on the sphinx rendered scikit-learn.org. See: https://github.com/scikit-learn/scikit-learn/issues/21755 */display: inline-block !important;position: relative;}#sk-container-id-3 div.sk-text-repr-fallback {display: none;}</style><div id=\"sk-container-id-3\" class=\"sk-top-container\"><div class=\"sk-text-repr-fallback\"><pre>SVC(C=100, gamma=&#x27;auto&#x27;, kernel=&#x27;poly&#x27;)</pre><b>In a Jupyter environment, please rerun this cell to show the HTML representation or trust the notebook. <br />On GitHub, the HTML representation is unable to render, please try loading this page with nbviewer.org.</b></div><div class=\"sk-container\" hidden><div class=\"sk-item\"><div class=\"sk-estimator sk-toggleable\"><input class=\"sk-toggleable__control sk-hidden--visually\" id=\"sk-estimator-id-3\" type=\"checkbox\" checked><label for=\"sk-estimator-id-3\" class=\"sk-toggleable__label sk-toggleable__label-arrow\">SVC</label><div class=\"sk-toggleable__content\"><pre>SVC(C=100, gamma=&#x27;auto&#x27;, kernel=&#x27;poly&#x27;)</pre></div></div></div></div></div>"
      ],
      "text/plain": [
       "SVC(C=100, gamma='auto', kernel='poly')"
      ]
     },
     "execution_count": 61,
     "metadata": {},
     "output_type": "execute_result"
    }
   ],
   "source": [
    "model.fit(df.iloc[:,:-1],df.iloc[:,-1])"
   ]
  },
  {
   "cell_type": "code",
   "execution_count": 62,
   "metadata": {
    "id": "qaA9sMWLtfGl"
   },
   "outputs": [],
   "source": [
    "### for saving the trained model##\n",
    "# pick_kernelPoly = open('model_SVM.sav','wb')\n",
    "# pickle.dump(model,pick_kernelPoly)\n",
    "# pick_kernelPoly.close()"
   ]
  },
  {
   "cell_type": "code",
   "execution_count": 63,
   "metadata": {
    "id": "ojHbPjwZuq1c"
   },
   "outputs": [],
   "source": [
    "### for importing the trained model##\n",
    "# pick_kernelPoly = open('model_SVM.sav','rb')\n",
    "# model = pickle.load(pick_kernelPoly)\n",
    "# pick_kernelPoly.close()"
   ]
  },
  {
   "cell_type": "code",
   "execution_count": null,
   "metadata": {
    "id": "upY9iJNUkM2x",
    "scrolled": true
   },
   "outputs": [],
   "source": [
    "print(\"Enter datapath for test dataset\")\n",
    "DATADIR_test = Path(str(input()))\n",
    "Categories_test = ['Crazing','Pitted','Inclusion','Patches','Rolled','Scratches']"
   ]
  },
  {
   "cell_type": "code",
   "execution_count": 65,
   "metadata": {
    "id": "uhOBflJf_BXg"
   },
   "outputs": [],
   "source": [
    "data_test= []\n",
    "actual_image = []"
   ]
  },
  {
   "cell_type": "code",
   "execution_count": 66,
   "metadata": {
    "id": "igwKeiTtoXzN"
   },
   "outputs": [],
   "source": [
    "for category in Categories_test:\n",
    "    path_test = os.path.join(DATADIR_test, category) # path to respective folders\n",
    "    label_test = Categories_test.index(category)\n",
    "    for img in os.listdir(path_test):\n",
    "        img_array_test = cv.imread(os.path.join(path_test,img), 0)\n",
    "        image_test = np.array(img_array_test).astype('int32').flatten()\n",
    "        data_test.append([image_test,label_test])\n",
    "        actual_image.append([img])"
   ]
  },
  {
   "cell_type": "code",
   "execution_count": 67,
   "metadata": {
    "id": "fGlCGNBnphzr"
   },
   "outputs": [],
   "source": [
    "features_test = []\n",
    "labels_test =[]"
   ]
  },
  {
   "cell_type": "code",
   "execution_count": 68,
   "metadata": {
    "id": "jAJjF-mlplsc"
   },
   "outputs": [],
   "source": [
    "for feature, label in data_test:\n",
    "    features_test.append(feature)\n",
    "    labels_test.append(label)\n",
    "test_df=pd.DataFrame(np.array(features_test))\n",
    "test_df['Target'] = pd.DataFrame(np.array(labels_test))"
   ]
  },
  {
   "cell_type": "code",
   "execution_count": 69,
   "metadata": {
    "id": "nUMrI8mzSPu-"
   },
   "outputs": [],
   "source": [
    "prediction = model.predict(test_df.iloc[:,:-1])"
   ]
  },
  {
   "cell_type": "code",
   "execution_count": 70,
   "metadata": {
    "scrolled": true
   },
   "outputs": [
    {
     "name": "stdout",
     "output_type": "stream",
     "text": [
      "              precision    recall  f1-score   support\n",
      "\n",
      "           0       0.25      0.43      0.32         7\n",
      "           1       0.33      0.36      0.35        11\n",
      "           2       0.83      0.50      0.62        20\n",
      "           3       0.50      1.00      0.67         6\n",
      "           4       0.58      0.64      0.61        11\n",
      "           5       0.58      0.41      0.48        17\n",
      "\n",
      "    accuracy                           0.51        72\n",
      "   macro avg       0.51      0.56      0.51        72\n",
      "weighted avg       0.58      0.51      0.52        72\n",
      "\n"
     ]
    }
   ],
   "source": [
    "print(classification_report(prediction,test_df.iloc[:,-1]))"
   ]
  },
  {
   "cell_type": "code",
   "execution_count": 71,
   "metadata": {
    "colab": {
     "base_uri": "https://localhost:8080/"
    },
    "id": "cwJX64vYSPrX",
    "outputId": "a8213a58-666d-48b7-821b-933fbe27ae7b",
    "scrolled": true
   },
   "outputs": [
    {
     "name": "stdout",
     "output_type": "stream",
     "text": [
      "The model is 51.388888888888886% accurate\n",
      "Time:  137.10920540000006\n"
     ]
    }
   ],
   "source": [
    "print(f\"The model is {accuracy_score(prediction,test_df.iloc[:,-1])*100}% accurate\")"
   ]
  },
  {
   "cell_type": "code",
   "execution_count": 72,
   "metadata": {
    "colab": {
     "base_uri": "https://localhost:8080/",
     "height": 283
    },
    "id": "YeAtkWEESjo-",
    "outputId": "354b84c2-bc23-49b0-bc9e-2b0c9c9fe86e"
   },
   "outputs": [
    {
     "name": "stdout",
     "output_type": "stream",
     "text": [
      "Prediction is:  Scratches\n"
     ]
    },
    {
     "data": {
      "image/png": "[encoded data removed]",
      "text/plain": [
       "<Figure size 432x288 with 1 Axes>"
      ]
     },
     "metadata": {
      "needs_background": "light"
     },
     "output_type": "display_data"
    },
    {
     "name": "stdout",
     "output_type": "stream",
     "text": [
      "Actuall Image:  ['Sc_109.bmp']\n"
     ]
    }
   ],
   "source": [
    "predict_img = 71\n",
    "print('Prediction is: ', Categories[prediction[predict_img]])\n",
    "Defect = features_test[predict_img].reshape(200,200)\n",
    "plt.imshow(Defect,cmap='gray')\n",
    "plt.axis(\"off\")\n",
    "plt.show()\n",
    "\n",
    "print('Actuall Image: ', actual_image[predict_img])"
   ]
  }
 ],
 "metadata": {
  "colab": {
   "collapsed_sections": [],
   "provenance": []
  },
  "gpuClass": "standard",
  "kernelspec": {
   "display_name": "Python 3",
   "language": "python",
   "name": "python3"
  },
  "language_info": {
   "codemirror_mode": {
    "name": "ipython",
    "version": 3
   },
   "file_extension": ".py",
   "mimetype": "text/x-python",
   "name": "python",
   "nbconvert_exporter": "python",
   "pygments_lexer": "ipython3",
   "version": "3.8.8"
  }
 },
 "nbformat": 4,
 "nbformat_minor": 1
}
