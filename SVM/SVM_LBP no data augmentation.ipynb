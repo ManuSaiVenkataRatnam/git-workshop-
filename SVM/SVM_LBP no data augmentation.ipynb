{
 "cells": [
  {
   "cell_type": "code",
   "execution_count": 28,
   "metadata": {
    "id": "Vmuv_2O5WWu6"
   },
   "outputs": [],
   "source": [
    "import numpy as np\n",
    "from matplotlib import pyplot as plt\n",
    "from sklearn import svm\n",
    "from sklearn.metrics import classification_report,accuracy_score\n",
    "import os\n",
    "import cv2 as cv\n",
    "import pickle\n",
    "import random\n",
    "from skimage import feature\n",
    "import pandas as pd\n",
    "from pathlib import Path\n",
    "from sklearn.svm import LinearSVC"
   ]
  },
  {
   "cell_type": "code",
   "execution_count": null,
   "metadata": {
    "scrolled": true
   },
   "outputs": [],
   "source": [
    "print(\"Enter datapath for training dataset\")\n",
    "DATADIR = Path(str(input()))\n",
    "print(\"The path for training dataset is: \",DATADIR)"
   ]
  },
  {
   "cell_type": "code",
   "execution_count": 30,
   "metadata": {
    "id": "NNuDm6_REPgF"
   },
   "outputs": [],
   "source": [
    "Categories = ['Crazing','Pitted','Inclusion','Patches','Rolled','Scratches']"
   ]
  },
  {
   "cell_type": "code",
   "execution_count": 31,
   "metadata": {},
   "outputs": [],
   "source": [
    "class LocalBinaryPatterns:\n",
    "    # store the number of points and radius\n",
    "    def __init__(self, numPoints, radius):\n",
    "        self.numPoints = numPoints\n",
    "        self.radius = radius\n",
    "\n",
    "\n",
    "    def describe (self, image, eps=1e-7):\n",
    "        lbp = feature.local_binary_pattern(image, self.numPoints,\n",
    "                                       self.radius, method=\"uniform\")\n",
    "        (hist, _) = np.histogram(lbp.ravel(),\n",
    "             bins=np.arange(0, self.numPoints + 3),\n",
    "             range=(0, self.numPoints + 2))\n",
    "        hist = hist.astype(\"float\")\n",
    "        hist /= (hist.sum() + eps)\n",
    "        return hist\n",
    "                                 \n",
    "# compute the Local Binary Pattern representation of the image, and \n",
    "# use the LBP representation to build the histogram of patterns"
   ]
  },
  {
   "cell_type": "code",
   "execution_count": 32,
   "metadata": {},
   "outputs": [],
   "source": [
    "desc = LocalBinaryPatterns(24, 8)\n",
    "data = []"
   ]
  },
  {
   "cell_type": "code",
   "execution_count": 33,
   "metadata": {
    "id": "GPn8Zg6E8Ye6"
   },
   "outputs": [],
   "source": [
    "for category in Categories:\n",
    "    path = os.path.join(DATADIR, category) # path to respective folders\n",
    "    label = Categories.index(category)\n",
    "    for img in os.listdir(path):\n",
    "        img_array = cv.imread(os.path.join(path,img),cv.COLOR_BGR2GRAY)\n",
    "        hist = desc.describe(img_array)\n",
    "        data.append([hist,label])"
   ]
  },
  {
   "cell_type": "code",
   "execution_count": 34,
   "metadata": {
    "id": "JR1hdC6bQFbd"
   },
   "outputs": [],
   "source": [
    "#pick_in = open('data_LBP+SVM.pickle','wb')\n",
    "#pickle.dump(data,pick_in)\n",
    "#pick_in.close()"
   ]
  },
  {
   "cell_type": "code",
   "execution_count": 35,
   "metadata": {
    "id": "he6S3tuRQR1s"
   },
   "outputs": [],
   "source": [
    "#pick_in = open('data_LBP+SVM.pickle','rb')\n",
    "#data = pickle.load(pick_in)\n",
    "#pick_in.close()"
   ]
  },
  {
   "cell_type": "code",
   "execution_count": 36,
   "metadata": {
    "id": "Y91P8K_3AYW-"
   },
   "outputs": [],
   "source": [
    "random.shuffle(data)"
   ]
  },
  {
   "cell_type": "code",
   "execution_count": 37,
   "metadata": {
    "id": "fF3zBxpgOHRu"
   },
   "outputs": [],
   "source": [
    "features = []\n",
    "labels =[]"
   ]
  },
  {
   "cell_type": "code",
   "execution_count": 38,
   "metadata": {
    "id": "tKeGWx0DOKRO"
   },
   "outputs": [],
   "source": [
    "for hist,label in data:\n",
    "    features.append(hist)\n",
    "    labels.append(label)"
   ]
  },
  {
   "cell_type": "code",
   "execution_count": 40,
   "metadata": {},
   "outputs": [
    {
     "data": {
      "text/html": [
       "<style>#sk-container-id-2 {color: black;background-color: white;}#sk-container-id-2 pre{padding: 0;}#sk-container-id-2 div.sk-toggleable {background-color: white;}#sk-container-id-2 label.sk-toggleable__label {cursor: pointer;display: block;width: 100%;margin-bottom: 0;padding: 0.3em;box-sizing: border-box;text-align: center;}#sk-container-id-2 label.sk-toggleable__label-arrow:before {content: \"▸\";float: left;margin-right: 0.25em;color: #696969;}#sk-container-id-2 label.sk-toggleable__label-arrow:hover:before {color: black;}#sk-container-id-2 div.sk-estimator:hover label.sk-toggleable__label-arrow:before {color: black;}#sk-container-id-2 div.sk-toggleable__content {max-height: 0;max-width: 0;overflow: hidden;text-align: left;background-color: #f0f8ff;}#sk-container-id-2 div.sk-toggleable__content pre {margin: 0.2em;color: black;border-radius: 0.25em;background-color: #f0f8ff;}#sk-container-id-2 input.sk-toggleable__control:checked~div.sk-toggleable__content {max-height: 200px;max-width: 100%;overflow: auto;}#sk-container-id-2 input.sk-toggleable__control:checked~label.sk-toggleable__label-arrow:before {content: \"▾\";}#sk-container-id-2 div.sk-estimator input.sk-toggleable__control:checked~label.sk-toggleable__label {background-color: #d4ebff;}#sk-container-id-2 div.sk-label input.sk-toggleable__control:checked~label.sk-toggleable__label {background-color: #d4ebff;}#sk-container-id-2 input.sk-hidden--visually {border: 0;clip: rect(1px 1px 1px 1px);clip: rect(1px, 1px, 1px, 1px);height: 1px;margin: -1px;overflow: hidden;padding: 0;position: absolute;width: 1px;}#sk-container-id-2 div.sk-estimator {font-family: monospace;background-color: #f0f8ff;border: 1px dotted black;border-radius: 0.25em;box-sizing: border-box;margin-bottom: 0.5em;}#sk-container-id-2 div.sk-estimator:hover {background-color: #d4ebff;}#sk-container-id-2 div.sk-parallel-item::after {content: \"\";width: 100%;border-bottom: 1px solid gray;flex-grow: 1;}#sk-container-id-2 div.sk-label:hover label.sk-toggleable__label {background-color: #d4ebff;}#sk-container-id-2 div.sk-serial::before {content: \"\";position: absolute;border-left: 1px solid gray;box-sizing: border-box;top: 0;bottom: 0;left: 50%;z-index: 0;}#sk-container-id-2 div.sk-serial {display: flex;flex-direction: column;align-items: center;background-color: white;padding-right: 0.2em;padding-left: 0.2em;position: relative;}#sk-container-id-2 div.sk-item {position: relative;z-index: 1;}#sk-container-id-2 div.sk-parallel {display: flex;align-items: stretch;justify-content: center;background-color: white;position: relative;}#sk-container-id-2 div.sk-item::before, #sk-container-id-2 div.sk-parallel-item::before {content: \"\";position: absolute;border-left: 1px solid gray;box-sizing: border-box;top: 0;bottom: 0;left: 50%;z-index: -1;}#sk-container-id-2 div.sk-parallel-item {display: flex;flex-direction: column;z-index: 1;position: relative;background-color: white;}#sk-container-id-2 div.sk-parallel-item:first-child::after {align-self: flex-end;width: 50%;}#sk-container-id-2 div.sk-parallel-item:last-child::after {align-self: flex-start;width: 50%;}#sk-container-id-2 div.sk-parallel-item:only-child::after {width: 0;}#sk-container-id-2 div.sk-dashed-wrapped {border: 1px dashed gray;margin: 0 0.4em 0.5em 0.4em;box-sizing: border-box;padding-bottom: 0.4em;background-color: white;}#sk-container-id-2 div.sk-label label {font-family: monospace;font-weight: bold;display: inline-block;line-height: 1.2em;}#sk-container-id-2 div.sk-label-container {text-align: center;}#sk-container-id-2 div.sk-container {/* jupyter's `normalize.less` sets `[hidden] { display: none; }` but bootstrap.min.css set `[hidden] { display: none !important; }` so we also need the `!important` here to be able to override the default hidden behavior on the sphinx rendered scikit-learn.org. See: https://github.com/scikit-learn/scikit-learn/issues/21755 */display: inline-block !important;position: relative;}#sk-container-id-2 div.sk-text-repr-fallback {display: none;}</style><div id=\"sk-container-id-2\" class=\"sk-top-container\"><div class=\"sk-text-repr-fallback\"><pre>LinearSVC(C=100.0, max_iter=10000, random_state=42)</pre><b>In a Jupyter environment, please rerun this cell to show the HTML representation or trust the notebook. <br />On GitHub, the HTML representation is unable to render, please try loading this page with nbviewer.org.</b></div><div class=\"sk-container\" hidden><div class=\"sk-item\"><div class=\"sk-estimator sk-toggleable\"><input class=\"sk-toggleable__control sk-hidden--visually\" id=\"sk-estimator-id-2\" type=\"checkbox\" checked><label for=\"sk-estimator-id-2\" class=\"sk-toggleable__label sk-toggleable__label-arrow\">LinearSVC</label><div class=\"sk-toggleable__content\"><pre>LinearSVC(C=100.0, max_iter=10000, random_state=42)</pre></div></div></div></div></div>"
      ],
      "text/plain": [
       "LinearSVC(C=100.0, max_iter=10000, random_state=42)"
      ]
     },
     "execution_count": 40,
     "metadata": {},
     "output_type": "execute_result"
    }
   ],
   "source": [
    "model = LinearSVC(C=100.0, random_state=42, max_iter=10000)\n",
    "model.fit(features, labels)"
   ]
  },
  {
   "cell_type": "code",
   "execution_count": 58,
   "metadata": {
    "colab": {
     "base_uri": "https://localhost:8080/"
    },
    "id": "dfdW9gGrI1hL",
    "outputId": "cc3bd0af-889b-492a-8054-4c39f8569add"
   },
   "outputs": [],
   "source": [
    "### for saving the trained model##\n",
    "# pick_LBP_SVM = open('model_LBP+SVM.sav','wb')\n",
    "# pickle.dump(model,pick_LBP_SVM)\n",
    "# pick_LBP_SVM.close()"
   ]
  },
  {
   "cell_type": "code",
   "execution_count": 43,
   "metadata": {},
   "outputs": [],
   "source": [
    "### for importing the trained model##\n",
    "# pick_LBP_SVM = open('model_LBP+SVM.sav','rb')\n",
    "# model = pickle.load(pick_LBP_SVM)\n",
    "# pick_LBP_SVM.close()"
   ]
  },
  {
   "cell_type": "code",
   "execution_count": 44,
   "metadata": {
    "id": "mca491LJSX7t"
   },
   "outputs": [],
   "source": [
    "data_test= []\n",
    "actual_image = []"
   ]
  },
  {
   "cell_type": "code",
   "execution_count": null,
   "metadata": {
    "scrolled": true
   },
   "outputs": [],
   "source": [
    "print(\"Enter datapath for test dataset\")\n",
    "DATADIR_test = Path(str(input()))\n",
    "Categories_test = ['Crazing','Pitted','Inclusion','Patches','Rolled','Scratches']"
   ]
  },
  {
   "cell_type": "code",
   "execution_count": 46,
   "metadata": {
    "id": "oilxpBFvR2VY"
   },
   "outputs": [],
   "source": [
    "for category in Categories_test:\n",
    "    path_test = os.path.join(DATADIR_test, category) # path to respective folders\n",
    "    label_test = Categories_test.index(category)\n",
    "    for img_test in os.listdir(path_test):\n",
    "        img_array = cv.imread(os.path.join(path_test,img_test),cv.COLOR_BGR2GRAY)\n",
    "        hist = desc.describe(img_array)        \n",
    "        data_test.append([hist,label_test,img_test])"
   ]
  },
  {
   "cell_type": "code",
   "execution_count": 47,
   "metadata": {
    "id": "qGJJgMgiOS6d"
   },
   "outputs": [],
   "source": [
    "features_test = []\n",
    "labels_test = []"
   ]
  },
  {
   "cell_type": "code",
   "execution_count": 48,
   "metadata": {
    "id": "lTLNtBIMOS3-"
   },
   "outputs": [],
   "source": [
    "for hist_test,label_test,img_test in data_test:\n",
    "    features_test.append(hist_test)\n",
    "    labels_test.append(label_test)\n",
    "    actual_image.append(img_test)"
   ]
  },
  {
   "cell_type": "code",
   "execution_count": 61,
   "metadata": {
    "id": "OPQ6Y305OS2E"
   },
   "outputs": [],
   "source": [
    "prediction = model.predict(features_test)"
   ]
  },
  {
   "cell_type": "code",
   "execution_count": 62,
   "metadata": {
    "scrolled": false
   },
   "outputs": [
    {
     "name": "stdout",
     "output_type": "stream",
     "text": [
      "Accuracy: 88.88888888888889% accuracy\n"
     ]
    }
   ],
   "source": [
    "print(f'Accuracy: {accuracy_score(prediction,labels_test)*100}% accuracy')"
   ]
  },
  {
   "cell_type": "code",
   "execution_count": 51,
   "metadata": {},
   "outputs": [
    {
     "name": "stdout",
     "output_type": "stream",
     "text": [
      "              precision    recall  f1-score   support\n",
      "\n",
      "           0       1.00      1.00      1.00        12\n",
      "           1       1.00      0.92      0.96        13\n",
      "           2       0.50      1.00      0.67         6\n",
      "           3       1.00      0.92      0.96        13\n",
      "           4       1.00      1.00      1.00        12\n",
      "           5       0.83      0.62      0.71        16\n",
      "\n",
      "    accuracy                           0.89        72\n",
      "   macro avg       0.89      0.91      0.88        72\n",
      "weighted avg       0.92      0.89      0.89        72\n",
      "\n"
     ]
    }
   ],
   "source": [
    "print(classification_report(prediction,test_df.iloc[:,-1]))"
   ]
  }
 ],
 "metadata": {
  "accelerator": "GPU",
  "colab": {
   "collapsed_sections": [],
   "provenance": []
  },
  "gpuClass": "standard",
  "kernelspec": {
   "display_name": "Python 3",
   "language": "python",
   "name": "python3"
  },
  "language_info": {
   "codemirror_mode": {
    "name": "ipython",
    "version": 3
   },
   "file_extension": ".py",
   "mimetype": "text/x-python",
   "name": "python",
   "nbconvert_exporter": "python",
   "pygments_lexer": "ipython3",
   "version": "3.8.8"
  }
 },
 "nbformat": 4,
 "nbformat_minor": 1
}
